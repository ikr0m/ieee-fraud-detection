{
 "cells": [
  {
   "cell_type": "markdown",
   "metadata": {},
   "source": [
    "**LGB + XGB + CatBoost**\n",
    "\n",
    "**Holdout valid data. For me, it's a reliable method to test your features and models offline.\n",
    "The lb score = valid score + 0.01**\n"
   ]
  },
  {
   "cell_type": "code",
   "execution_count": 1,
   "metadata": {},
   "outputs": [
    {
     "name": "stderr",
     "output_type": "stream",
     "text": [
      "/opt/conda/lib/python3.6/site-packages/sklearn/externals/six.py:31: DeprecationWarning: The module is deprecated in version 0.21 and will be removed in version 0.23 since we've dropped support for Python 2.7. Please rely on the official version of six (https://pypi.org/project/six/).\n",
      "  \"(https://pypi.org/project/six/).\", DeprecationWarning)\n",
      "/opt/conda/lib/python3.6/site-packages/sklearn/externals/joblib/__init__.py:15: DeprecationWarning: sklearn.externals.joblib is deprecated in 0.21 and will be removed in 0.23. Please import this functionality directly from joblib, which can be installed with: pip install joblib. If this warning is raised when loading pickled models, you may need to re-serialize those models with scikit-learn 0.21+.\n",
      "  warnings.warn(msg, category=DeprecationWarning)\n",
      "Using TensorFlow backend.\n",
      "/opt/conda/lib/python3.6/site-packages/tensorflow/python/framework/dtypes.py:516: FutureWarning: Passing (type, 1) or '1type' as a synonym of type is deprecated; in a future version of numpy, it will be understood as (type, (1,)) / '(1,)type'.\n",
      "  _np_qint8 = np.dtype([(\"qint8\", np.int8, 1)])\n",
      "/opt/conda/lib/python3.6/site-packages/tensorflow/python/framework/dtypes.py:517: FutureWarning: Passing (type, 1) or '1type' as a synonym of type is deprecated; in a future version of numpy, it will be understood as (type, (1,)) / '(1,)type'.\n",
      "  _np_quint8 = np.dtype([(\"quint8\", np.uint8, 1)])\n",
      "/opt/conda/lib/python3.6/site-packages/tensorflow/python/framework/dtypes.py:518: FutureWarning: Passing (type, 1) or '1type' as a synonym of type is deprecated; in a future version of numpy, it will be understood as (type, (1,)) / '(1,)type'.\n",
      "  _np_qint16 = np.dtype([(\"qint16\", np.int16, 1)])\n",
      "/opt/conda/lib/python3.6/site-packages/tensorflow/python/framework/dtypes.py:519: FutureWarning: Passing (type, 1) or '1type' as a synonym of type is deprecated; in a future version of numpy, it will be understood as (type, (1,)) / '(1,)type'.\n",
      "  _np_quint16 = np.dtype([(\"quint16\", np.uint16, 1)])\n",
      "/opt/conda/lib/python3.6/site-packages/tensorflow/python/framework/dtypes.py:520: FutureWarning: Passing (type, 1) or '1type' as a synonym of type is deprecated; in a future version of numpy, it will be understood as (type, (1,)) / '(1,)type'.\n",
      "  _np_qint32 = np.dtype([(\"qint32\", np.int32, 1)])\n",
      "/opt/conda/lib/python3.6/site-packages/tensorflow/python/framework/dtypes.py:525: FutureWarning: Passing (type, 1) or '1type' as a synonym of type is deprecated; in a future version of numpy, it will be understood as (type, (1,)) / '(1,)type'.\n",
      "  np_resource = np.dtype([(\"resource\", np.ubyte, 1)])\n",
      "/opt/conda/lib/python3.6/site-packages/tensorboard/compat/tensorflow_stub/dtypes.py:541: FutureWarning: Passing (type, 1) or '1type' as a synonym of type is deprecated; in a future version of numpy, it will be understood as (type, (1,)) / '(1,)type'.\n",
      "  _np_qint8 = np.dtype([(\"qint8\", np.int8, 1)])\n",
      "/opt/conda/lib/python3.6/site-packages/tensorboard/compat/tensorflow_stub/dtypes.py:542: FutureWarning: Passing (type, 1) or '1type' as a synonym of type is deprecated; in a future version of numpy, it will be understood as (type, (1,)) / '(1,)type'.\n",
      "  _np_quint8 = np.dtype([(\"quint8\", np.uint8, 1)])\n",
      "/opt/conda/lib/python3.6/site-packages/tensorboard/compat/tensorflow_stub/dtypes.py:543: FutureWarning: Passing (type, 1) or '1type' as a synonym of type is deprecated; in a future version of numpy, it will be understood as (type, (1,)) / '(1,)type'.\n",
      "  _np_qint16 = np.dtype([(\"qint16\", np.int16, 1)])\n",
      "/opt/conda/lib/python3.6/site-packages/tensorboard/compat/tensorflow_stub/dtypes.py:544: FutureWarning: Passing (type, 1) or '1type' as a synonym of type is deprecated; in a future version of numpy, it will be understood as (type, (1,)) / '(1,)type'.\n",
      "  _np_quint16 = np.dtype([(\"quint16\", np.uint16, 1)])\n",
      "/opt/conda/lib/python3.6/site-packages/tensorboard/compat/tensorflow_stub/dtypes.py:545: FutureWarning: Passing (type, 1) or '1type' as a synonym of type is deprecated; in a future version of numpy, it will be understood as (type, (1,)) / '(1,)type'.\n",
      "  _np_qint32 = np.dtype([(\"qint32\", np.int32, 1)])\n",
      "/opt/conda/lib/python3.6/site-packages/tensorboard/compat/tensorflow_stub/dtypes.py:550: FutureWarning: Passing (type, 1) or '1type' as a synonym of type is deprecated; in a future version of numpy, it will be understood as (type, (1,)) / '(1,)type'.\n",
      "  np_resource = np.dtype([(\"resource\", np.ubyte, 1)])\n"
     ]
    }
   ],
   "source": [
    "import os\n",
    "\n",
    "import numpy as np\n",
    "import pandas as pd\n",
    "from sklearn import preprocessing\n",
    "import xgboost as xgb\n",
    "import matplotlib.pyplot as plt\n",
    "import seaborn as sns\n",
    "import random\n",
    "seed = 10\n",
    "np.random.seed(seed)\n",
    "random.seed(seed)\n",
    "os.environ['PYTHONHASHSEED'] = str(seed)\n",
    "np.random.seed(seed)\n",
    "import eli5"
   ]
  },
  {
   "cell_type": "code",
   "execution_count": 2,
   "metadata": {},
   "outputs": [],
   "source": [
    "def reduce_mem_usage(df):\n",
    "    \"\"\" iterate through all the columns of a dataframe and modify the data type\n",
    "        to reduce memory usage.        \n",
    "    \"\"\"\n",
    "    start_mem = df.memory_usage().sum() / 1024**2\n",
    "    print('Memory usage of dataframe is {:.2f} MB'.format(start_mem))\n",
    "    \n",
    "    for col in df.columns:\n",
    "        col_type = df[col].dtype\n",
    "        \n",
    "        if col_type != object:\n",
    "            c_min = df[col].min()\n",
    "            c_max = df[col].max()\n",
    "            if str(col_type)[:3] == 'int':\n",
    "                if c_min > np.iinfo(np.int8).min and c_max < np.iinfo(np.int8).max:\n",
    "                    df[col] = df[col].astype(np.int8)\n",
    "                elif c_min > np.iinfo(np.int16).min and c_max < np.iinfo(np.int16).max:\n",
    "                    df[col] = df[col].astype(np.int16)\n",
    "                elif c_min > np.iinfo(np.int32).min and c_max < np.iinfo(np.int32).max:\n",
    "                    df[col] = df[col].astype(np.int32)\n",
    "                elif c_min > np.iinfo(np.int64).min and c_max < np.iinfo(np.int64).max:\n",
    "                    df[col] = df[col].astype(np.int64)  \n",
    "            else:\n",
    "                if c_min > np.finfo(np.float16).min and c_max < np.finfo(np.float16).max:\n",
    "                    df[col] = df[col].astype(np.float16)\n",
    "                elif c_min > np.finfo(np.float32).min and c_max < np.finfo(np.float32).max:\n",
    "                    df[col] = df[col].astype(np.float32)\n",
    "                else:\n",
    "                    df[col] = df[col].astype(np.float64)\n",
    "        else:\n",
    "            df[col] = df[col].astype('category')\n",
    "\n",
    "    end_mem = df.memory_usage().sum() / 1024**2\n",
    "    print('Memory usage after optimization is: {:.2f} MB'.format(end_mem))\n",
    "    print('Decreased by {:.1f}%'.format(100 * (start_mem - end_mem) / start_mem))\n",
    "    \n",
    "    return df"
   ]
  },
  {
   "cell_type": "code",
   "execution_count": 3,
   "metadata": {},
   "outputs": [
    {
     "name": "stdout",
     "output_type": "stream",
     "text": [
      "CPU times: user 32 s, sys: 5.61 s, total: 37.6 s\n",
      "Wall time: 37.7 s\n"
     ]
    }
   ],
   "source": [
    "%%time\n",
    "train_transaction = pd.read_csv('../input/ieee-fraud-detection/train_transaction.csv', index_col='TransactionID')\n",
    "test_transaction = pd.read_csv('../input/ieee-fraud-detection/test_transaction.csv', index_col='TransactionID')\n",
    "\n",
    "\n",
    "# train_transaction = reduce_mem_usage(train_transaction)\n",
    "# test_transaction = reduce_mem_usage(test_transaction)\n",
    "\n",
    "sample_submission = pd.read_csv('../input/ieee-fraud-detection/sample_submission.csv', index_col='TransactionID')"
   ]
  },
  {
   "cell_type": "code",
   "execution_count": 4,
   "metadata": {},
   "outputs": [],
   "source": [
    "train_transaction['hour'] = train_transaction['TransactionDT'].map(lambda x:(x//3600)%24)\n",
    "test_transaction['hour'] = test_transaction['TransactionDT'].map(lambda x:(x//3600)%24)\n",
    "train_transaction['weekday'] = train_transaction['TransactionDT'].map(lambda x:(x//(3600 * 24))%7)\n",
    "test_transaction['weekday'] = test_transaction['TransactionDT'].map(lambda x:(x//(3600 * 24))%7)"
   ]
  },
  {
   "cell_type": "code",
   "execution_count": 5,
   "metadata": {},
   "outputs": [],
   "source": [
    "cols = \"TransactionDT,TransactionAmt,ProductCD,card1,card2,card3,card4,card5,card6,addr1,addr2,C1,C2,C3,C4,C5,C6,C7,C8,C9,C10,C11,C12,C13,C14,M1,M2,M3,M4,M5,M6,M7,M8,M9\".split(\",\")\n",
    "train_test = train_transaction[cols].append(test_transaction[cols])\n",
    "\n",
    "for col in \"ProductCD,card1,card2,card3,card4,card5,card6,addr1,addr2,C1,C2,C3,C4,C5,C6,C7,C8,C9,C10,C11,C12,C13,C14\".split(\",\"):\n",
    "    col_count = train_test.groupby(col)['TransactionDT'].count()\n",
    "    train_transaction[col+'_count'] = train_transaction[col].map(col_count)\n",
    "    test_transaction[col+'_count'] = test_transaction[col].map(col_count)\n",
    "#     print(col,test_transaction[col].map(lambda x:0 if x in s else 1).sum())\n",
    "\n",
    "\n",
    "for col in \"card1,card2,card5,addr1,addr2\".split(\",\"):\n",
    "    col_count = train_test.groupby(col)['TransactionAmt'].mean()\n",
    "    train_transaction[col+'_amtcount'] = train_transaction[col].map(col_count)\n",
    "    test_transaction[col+'_amtcount'] = test_transaction[col].map(col_count)\n",
    "    col_count1 = train_test[train_test['C5'] == 0].groupby(col)['C5'].count()\n",
    "    col_count2 = train_test[train_test['C5'] != 0].groupby(col)['C5'].count()\n",
    "    train_transaction[col+'_C5count'] = train_transaction[col].map(col_count2) / (train_transaction[col].map(col_count1) + 0.01)\n",
    "    test_transaction[col+'_C5count'] = test_transaction[col].map(col_count2) / (test_transaction[col].map(col_count1) + 0.01)\n",
    "    \n",
    "del train_test\n"
   ]
  },
  {
   "cell_type": "code",
   "execution_count": 6,
   "metadata": {},
   "outputs": [],
   "source": [
    "train_identity = pd.read_csv('../input/ieee-fraud-detection/train_identity.csv', index_col='TransactionID')\n",
    "test_identity = pd.read_csv('../input/ieee-fraud-detection/test_identity.csv', index_col='TransactionID')\n",
    "\n",
    "\n",
    "# train_test = train_identity.append(test_identity).fillna(-1)    \n",
    "# for col in \"id_01,id_02,id_03,id_04,id_05,id_06,id_07,id_08,id_09,id_10,id_12,id_13,id_14,id_15,id_16,id_17,id_18,id_19,id_20,id_21,id_22,id_23,id_24,id_25,id_26,id_27,id_28,id_29,id_30,id_31,id_32,id_33,id_34,id_35,id_36,id_37,id_38,DeviceType,DeviceInfo\".split(\",\"):\n",
    "#     col_count = train_test.groupby(col)['id_01'].count()\n",
    "#     train_identity[col+'_count'] = train_identity[col].fillna(-1).map(col_count)\n",
    "#     test_identity[col+'_count'] = test_identity[col].fillna(-1).map(col_count)\n",
    "    \n",
    "# del train_test"
   ]
  },
  {
   "cell_type": "code",
   "execution_count": 7,
   "metadata": {
    "scrolled": true
   },
   "outputs": [
    {
     "name": "stdout",
     "output_type": "stream",
     "text": [
      "V126 24875\n",
      "V127 104743\n",
      "V128 46447\n",
      "V129 8376\n",
      "V130 89202\n",
      "V131 29537\n",
      "V132 9116\n",
      "V133 14910\n",
      "V134 11134\n",
      "V135 9184\n",
      "V136 14824\n",
      "V137 10682\n",
      "V159 8116\n",
      "V160 10836\n",
      "V164 597\n",
      "V165 3440\n",
      "V166 2347\n",
      "V202 16120\n",
      "V203 20278\n",
      "V204 18198\n",
      "V205 6576\n",
      "V206 4897\n",
      "V207 9195\n",
      "V208 10054\n",
      "V209 10466\n",
      "V210 10210\n",
      "V211 10131\n",
      "V212 11253\n",
      "V213 10710\n",
      "V214 4277\n",
      "V215 5191\n",
      "V216 4769\n",
      "V263 16586\n",
      "V264 20089\n",
      "V265 18161\n",
      "V266 6886\n",
      "V267 10591\n",
      "V268 8642\n",
      "V270 8138\n",
      "V271 8432\n",
      "V272 8261\n",
      "V273 10568\n",
      "V274 11959\n",
      "V275 11161\n",
      "V276 4398\n",
      "V277 5417\n",
      "V278 4856\n",
      "V306 37081\n",
      "V307 140538\n",
      "V308 67074\n",
      "V309 16636\n",
      "V310 121258\n",
      "V311 10140\n",
      "V312 46506\n",
      "V313 50088\n",
      "V314 59747\n",
      "V315 51521\n",
      "V316 15081\n",
      "V317 24841\n",
      "V318 18718\n",
      "V319 10762\n",
      "V320 18664\n",
      "V321 13113\n"
     ]
    }
   ],
   "source": [
    "\n",
    "col_del = []\n",
    "for i in range(339):\n",
    "    col = \"V\" + str(i+1)\n",
    "    s = train_transaction[col].fillna(0).map(lambda x:0 if x%1 == 0 else 1).sum()\n",
    "    if s > 100:\n",
    "        print(col,s)\n",
    "        col_del.append(col)\n",
    "#         del test_transaction[col],train_transaction[col]\n",
    "\n"
   ]
  },
  {
   "cell_type": "code",
   "execution_count": 8,
   "metadata": {},
   "outputs": [
    {
     "name": "stdout",
     "output_type": "stream",
     "text": [
      "(590540, 468)\n",
      "(506691, 467)\n"
     ]
    }
   ],
   "source": [
    "train = train_transaction.merge(train_identity, how='left', left_index=True, right_index=True)\n",
    "test = test_transaction.merge(test_identity, how='left', left_index=True, right_index=True)\n",
    "\n",
    "print(train.shape)\n",
    "print(test.shape)\n",
    "\n",
    "train.to_csv('train.csv')\n",
    "test.to_csv('test.csv')"
   ]
  },
  {
   "cell_type": "code",
   "execution_count": 9,
   "metadata": {},
   "outputs": [],
   "source": [
    "y_train = train['isFraud'].copy()\n",
    "del train_transaction, train_identity, test_transaction, test_identity\n",
    "\n",
    "# Drop target, fill in NaNs\n",
    "X_train = train.drop('isFraud', axis=1)\n",
    "X_test = test.copy()\n",
    "\n",
    "del train, test\n",
    "\n",
    "# Label Encoding\n",
    "for f in X_train.columns:\n",
    "    if X_train[f].dtype=='object' or X_test[f].dtype=='object': \n",
    "        lbl = preprocessing.LabelEncoder()\n",
    "        lbl.fit(list(X_train[f].values) + list(X_test[f].values))\n",
    "        X_train[f] = lbl.transform(list(X_train[f].values))\n",
    "        X_test[f] = lbl.transform(list(X_test[f].values)) "
   ]
  },
  {
   "cell_type": "markdown",
   "metadata": {},
   "source": [
    "**Set debug = True to see validation metric**"
   ]
  },
  {
   "cell_type": "code",
   "execution_count": 10,
   "metadata": {},
   "outputs": [
    {
     "name": "stdout",
     "output_type": "stream",
     "text": [
      "Memory usage of dataframe is 2128.56 MB\n",
      "Memory usage after optimization is: 610.22 MB\n",
      "Decreased by 71.3%\n",
      "Memory usage of dataframe is 1809.17 MB\n",
      "Memory usage after optimization is: 514.14 MB\n",
      "Decreased by 71.6%\n",
      "CPU times: user 2min 29s, sys: 7min 57s, total: 10min 26s\n",
      "Wall time: 10min 27s\n"
     ]
    }
   ],
   "source": [
    "%%time\n",
    "# From kernel https://www.kaggle.com/gemartin/load-data-reduce-memory-usage\n",
    "# WARNING! THIS CAN DAMAGE THE DATA \n",
    "\n",
    "X_train = reduce_mem_usage(X_train)\n",
    "X_test = reduce_mem_usage(X_test)\n",
    "\n",
    "debug = False\n",
    "if debug:\n",
    "    split_pos = X_train.shape[0]*4//5\n",
    "    y_test = y_train.iloc[split_pos:]\n",
    "    y_train = y_train.iloc[:split_pos]\n",
    "    X_test = X_train.iloc[split_pos:,:]\n",
    "    X_train = X_train.iloc[:split_pos,:]"
   ]
  },
  {
   "cell_type": "code",
   "execution_count": 11,
   "metadata": {},
   "outputs": [
    {
     "data": {
      "text/plain": [
       "60"
      ]
     },
     "execution_count": 11,
     "metadata": {},
     "output_type": "execute_result"
    }
   ],
   "source": [
    "import gc\n",
    "gc.collect()"
   ]
  },
  {
   "cell_type": "code",
   "execution_count": 12,
   "metadata": {},
   "outputs": [
    {
     "name": "stdout",
     "output_type": "stream",
     "text": [
      "CPU times: user 1min 17s, sys: 2min 20s, total: 3min 37s\n",
      "Wall time: 3min 38s\n"
     ]
    },
    {
     "data": {
      "text/plain": [
       "86"
      ]
     },
     "execution_count": 12,
     "metadata": {},
     "output_type": "execute_result"
    }
   ],
   "source": [
    "%%time\n",
    "\n",
    "from sklearn.model_selection import KFold\n",
    "from sklearn.metrics import roc_auc_score\n",
    "folds = 3\n",
    "kf = KFold(n_splits = folds, shuffle = True, random_state=seed)\n",
    "y_preds = np.zeros(X_test.shape[0])\n",
    "i = 0\n",
    "for tr_idx, val_idx in kf.split(X_train, y_train):\n",
    "    i+=1\n",
    "    clf = xgb.XGBClassifier(\n",
    "        n_estimators=800,\n",
    "        max_depth=9,\n",
    "        learning_rate=0.03,\n",
    "        subsample=0.9,\n",
    "        colsample_bytree=0.9,\n",
    "        tree_method='gpu_hist'\n",
    "    )\n",
    "    \n",
    "    X_tr = X_train.iloc[tr_idx, :]\n",
    "    y_tr = y_train.iloc[tr_idx]\n",
    "    clf.fit(X_tr, y_tr)\n",
    "    del X_tr\n",
    "    y_preds+= clf.predict_proba(X_test)[:,1] / folds\n",
    "    if debug:    \n",
    "        print(\"debug:\",roc_auc_score(y_test, clf.predict_proba(X_test)[:,1] / folds)) \n",
    "    del clf\n",
    "        \n",
    "    \n",
    "\n",
    "if debug:    \n",
    "    print(\"debug:\",roc_auc_score(y_test, y_preds))  \n",
    "\n",
    "gc.collect()"
   ]
  },
  {
   "cell_type": "code",
   "execution_count": 13,
   "metadata": {},
   "outputs": [],
   "source": [
    "features = [x for x in X_train.columns if x not in col_del]\n",
    "from sklearn.model_selection import KFold\n",
    "from sklearn.metrics import roc_auc_score\n",
    "folds = 3\n",
    "kf = KFold(n_splits = folds, shuffle = True, random_state=seed)\n",
    "y_preds11 = np.zeros(X_test.shape[0])\n",
    "i = 0\n",
    "for tr_idx, val_idx in kf.split(X_train, y_train):\n",
    "    i+=1\n",
    "    clf = xgb.XGBClassifier(\n",
    "        n_estimators=1000,\n",
    "        max_depth=9,\n",
    "        learning_rate=0.03,\n",
    "        subsample=0.9,\n",
    "        colsample_bytree=0.9,\n",
    "        tree_method='gpu_hist'\n",
    "    )\n",
    "    \n",
    "    X_tr = X_train[features].iloc[tr_idx, :]\n",
    "    y_tr = y_train.iloc[tr_idx]\n",
    "    clf.fit(X_tr, y_tr)\n",
    "    del X_tr\n",
    "    y_preds11+= clf.predict_proba(X_test[features])[:,1] / folds\n",
    "    if debug:    \n",
    "        print(\"debug:\",roc_auc_score(y_test, clf.predict_proba(X_test[features])[:,1] / folds))   \n",
    "    del clf    \n",
    "    \n",
    "gc.collect()\n",
    "if debug:    \n",
    "    print(\"debug:\",roc_auc_score(y_test, y_preds11))  \n",
    "    print(\"debug:\",roc_auc_score(y_test, y_preds11*0.5 + y_preds*0.5))"
   ]
  },
  {
   "cell_type": "code",
   "execution_count": null,
   "metadata": {},
   "outputs": [],
   "source": [
    "\n"
   ]
  },
  {
   "cell_type": "code",
   "execution_count": 14,
   "metadata": {},
   "outputs": [
    {
     "name": "stdout",
     "output_type": "stream",
     "text": [
      "['ProductCD', 'card1', 'card2', 'card3', 'card4', 'card5', 'card6', 'addr1', 'addr2', 'P_emaildomain', 'R_emaildomain', 'DeviceType', 'DeviceInfo']\n"
     ]
    },
    {
     "name": "stderr",
     "output_type": "stream",
     "text": [
      "/opt/conda/lib/python3.6/site-packages/lightgbm/basic.py:1205: UserWarning: Using categorical_feature in Dataset.\n",
      "  warnings.warn('Using categorical_feature in Dataset.')\n"
     ]
    }
   ],
   "source": [
    "import lightgbm as lgb\n",
    "cate = [x for x in X_train.columns if (x == 'ProductCD' or  x.startswith(\"addr\") or x.startswith(\"card\") or \n",
    "                                       x.endswith(\"domain\") or x.startswith(\"Device\")) and not x.endswith(\"count\") ]\n",
    "print(cate)\n",
    "params = {'application': 'binary',\n",
    "          'boosting': 'gbdt',\n",
    "          'metric': 'auc',\n",
    "          'max_depth': 16,\n",
    "          'learning_rate': 0.05,\n",
    "          'bagging_fraction': 0.9,\n",
    "          'feature_fraction': 0.9,\n",
    "          'verbosity': -1,\n",
    "          'lambda_l1': 0.1,\n",
    "          'lambda_l2': 0.01,\n",
    "          'num_leaves': 500,\n",
    "          'min_child_weight': 3,\n",
    "          'data_random_seed': 17,\n",
    "         'nthreads':4}\n",
    "\n",
    "early_stop = 200\n",
    "verbose_eval = 30\n",
    "num_rounds = 800\n",
    "# \n",
    "folds = 3\n",
    "kf = KFold(n_splits = folds, shuffle = True, random_state=seed)\n",
    "y_preds2 = np.zeros(X_test.shape[0])\n",
    "feature_importance_df = pd.DataFrame()\n",
    "i = 0\n",
    "for tr_idx, val_idx in kf.split(X_train, y_train):\n",
    "\n",
    "    \n",
    "    X_tr = X_train.iloc[tr_idx, :]\n",
    "    y_tr = y_train.iloc[tr_idx]\n",
    "    d_train = lgb.Dataset(X_tr, label=y_tr,categorical_feature = cate)\n",
    "    watchlist = []\n",
    "    if debug:\n",
    "        d_test = lgb.Dataset(X_test, label=y_test,categorical_feature = cate)\n",
    "        watchlist.append(d_test)\n",
    "    \n",
    "    \n",
    "    model = lgb.train(params,\n",
    "                      train_set=d_train,\n",
    "                      num_boost_round=num_rounds,\n",
    "                      valid_sets=watchlist,\n",
    "                      verbose_eval=verbose_eval)\n",
    "        \n",
    "    \n",
    "    y_preds2+= model.predict(X_test) / folds\n",
    "    \n",
    "    \n",
    "    fold_importance_df = pd.DataFrame()\n",
    "    fold_importance_df[\"Feature\"] = X_tr.columns\n",
    "    fold_importance_df[\"importance\"] = model.feature_importance()\n",
    "    fold_importance_df[\"fold\"] = i + 1\n",
    "    feature_importance_df = pd.concat([feature_importance_df, fold_importance_df], axis=0)\n",
    "    if debug:    \n",
    "        print(\"debug:\",roc_auc_score(y_test, model.predict(X_test) / folds))  \n",
    "    i+=1\n",
    "    del X_tr,d_train\n",
    "\n",
    "if debug:    \n",
    "    print(\"debug:\",roc_auc_score(y_test, y_preds2))  \n",
    "    print(\"debug:\",roc_auc_score(y_test, (y_preds + y_preds2)*0.5))  \n",
    "\n",
    "\n"
   ]
  },
  {
   "cell_type": "code",
   "execution_count": 15,
   "metadata": {},
   "outputs": [],
   "source": [
    "if debug:    \n",
    "    print(\"debug:\",roc_auc_score(y_test, y_preds))  \n",
    "    print(\"debug:\",roc_auc_score(y_test, y_preds2))  \n",
    "    print(\"debug:\",roc_auc_score(y_test, (y_preds + y_preds2)*0.5)) "
   ]
  },
  {
   "cell_type": "code",
   "execution_count": 16,
   "metadata": {},
   "outputs": [
    {
     "name": "stdout",
     "output_type": "stream",
     "text": [
      "Index(['TransactionDT', 'card1', 'TransactionAmt', 'card1_count', 'hour',\n",
      "       'addr1', 'weekday', 'id_02', 'D15', 'addr1_count', 'D4', 'dist1',\n",
      "       'card2', 'card1_C5count', 'card2_count', 'id_20', 'card1_amtcount',\n",
      "       'addr1_C5count', 'addr1_amtcount', 'id_19', 'card2_C5count', 'D10',\n",
      "       'D8', 'D2', 'id_31', 'D11', 'C13', 'card2_amtcount', 'C13_count', 'D1',\n",
      "       'D5', 'DeviceInfo', 'id_06', 'C1', 'id_13', 'D3', 'P_emaildomain',\n",
      "       'C14_count', 'dist2', 'M4', 'C2', 'id_05', 'id_01', 'V307', 'C1_count',\n",
      "       'D9', 'D14', 'M6', 'C6_count', 'card5_count', 'C14', 'M5', 'C6', 'C11',\n",
      "       'C2_count', 'card5_C5count', 'card5_amtcount', 'V313', 'V310',\n",
      "       'C11_count', 'C9_count', 'id_33', 'V45', 'V127', 'D6', 'D12', 'C9',\n",
      "       'M7', 'id_18', 'V308', 'M8', 'V87', 'V75', 'V264', 'DeviceType', 'V315',\n",
      "       'V314', 'V35', 'V130', 'V76', 'V78', 'id_30', 'V54', 'V38', 'V53',\n",
      "       'V317', 'D13', 'V12', 'V62', 'V83', 'R_emaildomain', 'id_14', 'V44',\n",
      "       'V36', 'M3', 'C8', 'V82', 'D7', 'C10', 'V312'],\n",
      "      dtype='object', name='Feature')\n"
     ]
    },
    {
     "data": {
      "image/png": "[encoded data removed]",
      "text/plain": [
       "<Figure size 1008x1800 with 1 Axes>"
      ]
     },
     "metadata": {
      "needs_background": "light"
     },
     "output_type": "display_data"
    }
   ],
   "source": [
    "cols = (feature_importance_df[[\"Feature\", \"importance\"]]\n",
    "        .groupby(\"Feature\")\n",
    "        .mean()\n",
    "        .sort_values(by=\"importance\", ascending=False)[:100].index)\n",
    "print(cols)\n",
    "best_features = feature_importance_df.loc[feature_importance_df.Feature.isin(cols)]\n",
    "\n",
    "plt.figure(figsize=(14,25))\n",
    "sns.barplot(x=\"importance\",\n",
    "            y=\"Feature\",\n",
    "            data=best_features.sort_values(by=\"importance\",\n",
    "                                           ascending=False))\n",
    "plt.title('LightGBM Features (avg over folds)')\n",
    "plt.tight_layout()\n",
    "plt.savefig('lgbm_importances.png')"
   ]
  },
  {
   "cell_type": "code",
   "execution_count": 17,
   "metadata": {},
   "outputs": [
    {
     "name": "stdout",
     "output_type": "stream",
     "text": [
      "['ProductCD', 'card1', 'card2', 'addr1', 'addr2', 'P_emaildomain', 'R_emaildomain', 'DeviceType', 'DeviceInfo']\n",
      "0:\tlearn: 0.6160709\ttotal: 1.49s\tremaining: 19m 54s\n",
      "30:\tlearn: 0.0931425\ttotal: 45s\tremaining: 18m 37s\n",
      "60:\tlearn: 0.0658641\ttotal: 1m 29s\tremaining: 17m 59s\n",
      "90:\tlearn: 0.0583183\ttotal: 2m 13s\tremaining: 17m 17s\n",
      "120:\tlearn: 0.0532428\ttotal: 2m 57s\tremaining: 16m 34s\n",
      "150:\tlearn: 0.0497832\ttotal: 3m 41s\tremaining: 15m 49s\n",
      "180:\tlearn: 0.0474022\ttotal: 4m 24s\tremaining: 15m 5s\n",
      "210:\tlearn: 0.0459087\ttotal: 5m 8s\tremaining: 14m 20s\n",
      "240:\tlearn: 0.0442951\ttotal: 5m 51s\tremaining: 13m 36s\n",
      "270:\tlearn: 0.0432689\ttotal: 6m 35s\tremaining: 12m 51s\n",
      "300:\tlearn: 0.0418035\ttotal: 7m 19s\tremaining: 12m 7s\n",
      "330:\tlearn: 0.0407762\ttotal: 8m 2s\tremaining: 11m 23s\n",
      "360:\tlearn: 0.0397597\ttotal: 8m 46s\tremaining: 10m 39s\n",
      "390:\tlearn: 0.0388190\ttotal: 9m 29s\tremaining: 9m 55s\n",
      "420:\tlearn: 0.0377432\ttotal: 10m 13s\tremaining: 9m 12s\n",
      "450:\tlearn: 0.0367218\ttotal: 10m 56s\tremaining: 8m 28s\n",
      "480:\tlearn: 0.0358999\ttotal: 11m 40s\tremaining: 7m 44s\n",
      "510:\tlearn: 0.0350227\ttotal: 12m 24s\tremaining: 7m\n",
      "540:\tlearn: 0.0342118\ttotal: 13m 7s\tremaining: 6m 17s\n",
      "570:\tlearn: 0.0335184\ttotal: 13m 51s\tremaining: 5m 33s\n",
      "600:\tlearn: 0.0328092\ttotal: 14m 35s\tremaining: 4m 49s\n",
      "630:\tlearn: 0.0321621\ttotal: 15m 18s\tremaining: 4m 6s\n",
      "660:\tlearn: 0.0316055\ttotal: 16m 2s\tremaining: 3m 22s\n",
      "690:\tlearn: 0.0308667\ttotal: 16m 45s\tremaining: 2m 38s\n",
      "720:\tlearn: 0.0301930\ttotal: 17m 29s\tremaining: 1m 54s\n",
      "750:\tlearn: 0.0294700\ttotal: 18m 13s\tremaining: 1m 11s\n",
      "780:\tlearn: 0.0287663\ttotal: 18m 56s\tremaining: 27.7s\n",
      "799:\tlearn: 0.0283126\ttotal: 19m 24s\tremaining: 0us\n",
      "0:\tlearn: 0.6156737\ttotal: 1.46s\tremaining: 19m 26s\n",
      "30:\tlearn: 0.0931555\ttotal: 45s\tremaining: 18m 35s\n",
      "60:\tlearn: 0.0671694\ttotal: 1m 29s\tremaining: 17m 59s\n",
      "90:\tlearn: 0.0582986\ttotal: 2m 13s\tremaining: 17m 19s\n",
      "120:\tlearn: 0.0530569\ttotal: 2m 57s\tremaining: 16m 35s\n",
      "150:\tlearn: 0.0497468\ttotal: 3m 41s\tremaining: 15m 50s\n",
      "180:\tlearn: 0.0475028\ttotal: 4m 24s\tremaining: 15m 5s\n",
      "210:\tlearn: 0.0455313\ttotal: 5m 8s\tremaining: 14m 21s\n",
      "240:\tlearn: 0.0439734\ttotal: 5m 52s\tremaining: 13m 36s\n",
      "270:\tlearn: 0.0424946\ttotal: 6m 35s\tremaining: 12m 52s\n",
      "300:\tlearn: 0.0415302\ttotal: 7m 19s\tremaining: 12m 8s\n",
      "330:\tlearn: 0.0400879\ttotal: 8m 2s\tremaining: 11m 24s\n",
      "360:\tlearn: 0.0389544\ttotal: 8m 46s\tremaining: 10m 40s\n",
      "390:\tlearn: 0.0382612\ttotal: 9m 29s\tremaining: 9m 56s\n",
      "420:\tlearn: 0.0373375\ttotal: 10m 13s\tremaining: 9m 12s\n",
      "450:\tlearn: 0.0362432\ttotal: 10m 57s\tremaining: 8m 28s\n",
      "480:\tlearn: 0.0352996\ttotal: 11m 40s\tremaining: 7m 44s\n",
      "510:\tlearn: 0.0345501\ttotal: 12m 24s\tremaining: 7m\n",
      "540:\tlearn: 0.0336202\ttotal: 13m 8s\tremaining: 6m 17s\n",
      "570:\tlearn: 0.0326913\ttotal: 13m 51s\tremaining: 5m 33s\n",
      "600:\tlearn: 0.0319889\ttotal: 14m 35s\tremaining: 4m 49s\n",
      "630:\tlearn: 0.0314157\ttotal: 15m 18s\tremaining: 4m 6s\n",
      "660:\tlearn: 0.0305304\ttotal: 16m 2s\tremaining: 3m 22s\n",
      "690:\tlearn: 0.0298045\ttotal: 16m 45s\tremaining: 2m 38s\n",
      "720:\tlearn: 0.0290886\ttotal: 17m 29s\tremaining: 1m 54s\n",
      "750:\tlearn: 0.0283828\ttotal: 18m 13s\tremaining: 1m 11s\n",
      "780:\tlearn: 0.0276156\ttotal: 18m 57s\tremaining: 27.7s\n",
      "799:\tlearn: 0.0273223\ttotal: 19m 24s\tremaining: 0us\n",
      "0:\tlearn: 0.6148789\ttotal: 1.46s\tremaining: 19m 27s\n",
      "30:\tlearn: 0.0917891\ttotal: 45.2s\tremaining: 18m 41s\n",
      "60:\tlearn: 0.0668323\ttotal: 1m 29s\tremaining: 17m 59s\n",
      "90:\tlearn: 0.0576925\ttotal: 2m 13s\tremaining: 17m 18s\n",
      "120:\tlearn: 0.0527980\ttotal: 2m 57s\tremaining: 16m 34s\n",
      "150:\tlearn: 0.0498658\ttotal: 3m 40s\tremaining: 15m 48s\n",
      "180:\tlearn: 0.0478074\ttotal: 4m 24s\tremaining: 15m 4s\n",
      "210:\tlearn: 0.0463500\ttotal: 5m 7s\tremaining: 14m 19s\n",
      "240:\tlearn: 0.0450863\ttotal: 5m 51s\tremaining: 13m 34s\n",
      "270:\tlearn: 0.0430615\ttotal: 6m 34s\tremaining: 12m 50s\n",
      "300:\tlearn: 0.0416630\ttotal: 7m 18s\tremaining: 12m 6s\n",
      "330:\tlearn: 0.0406547\ttotal: 8m 1s\tremaining: 11m 22s\n",
      "360:\tlearn: 0.0395713\ttotal: 8m 45s\tremaining: 10m 38s\n",
      "390:\tlearn: 0.0385847\ttotal: 9m 28s\tremaining: 9m 55s\n",
      "420:\tlearn: 0.0375766\ttotal: 10m 12s\tremaining: 9m 11s\n",
      "450:\tlearn: 0.0367031\ttotal: 10m 56s\tremaining: 8m 27s\n",
      "480:\tlearn: 0.0357116\ttotal: 11m 39s\tremaining: 7m 43s\n",
      "510:\tlearn: 0.0348739\ttotal: 12m 23s\tremaining: 7m\n",
      "540:\tlearn: 0.0342445\ttotal: 13m 6s\tremaining: 6m 16s\n",
      "570:\tlearn: 0.0333633\ttotal: 13m 50s\tremaining: 5m 33s\n",
      "600:\tlearn: 0.0325417\ttotal: 14m 34s\tremaining: 4m 49s\n",
      "630:\tlearn: 0.0316169\ttotal: 15m 17s\tremaining: 4m 5s\n",
      "660:\tlearn: 0.0309174\ttotal: 16m 1s\tremaining: 3m 22s\n",
      "690:\tlearn: 0.0301921\ttotal: 16m 45s\tremaining: 2m 38s\n",
      "720:\tlearn: 0.0294128\ttotal: 17m 28s\tremaining: 1m 54s\n",
      "750:\tlearn: 0.0286345\ttotal: 18m 12s\tremaining: 1m 11s\n",
      "780:\tlearn: 0.0280385\ttotal: 18m 55s\tremaining: 27.6s\n",
      "799:\tlearn: 0.0276572\ttotal: 19m 23s\tremaining: 0us\n"
     ]
    }
   ],
   "source": [
    "import catboost as cb\n",
    "from catboost import CatBoostClassifier,Pool\n",
    "\n",
    "\n",
    "features = [x for x in X_train.columns]\n",
    "\n",
    "cate = [x for x in X_train.columns if (x == 'ProductCD' or x in ['card1','card2'] or x.startswith(\"addr\") or \n",
    "                                       x.endswith(\"domain\") or x.startswith(\"Device\")) and not x.endswith(\"count\") and not x == \"id_11\" ]\n",
    "\n",
    "# cate = []\n",
    "print(cate)\n",
    "verbose_eval = 30\n",
    "num_rounds = 800\n",
    "\n",
    "folds = 3\n",
    "kf = KFold(n_splits = folds, shuffle = True, random_state=seed+1)\n",
    "y_preds3 = np.zeros(X_test.shape[0])\n",
    "feature_importance_df = pd.DataFrame()\n",
    "i = 0\n",
    "for tr_idx, val_idx in kf.split(X_train, y_train):\n",
    "\n",
    "    \n",
    "    X_tr = X_train[features].iloc[tr_idx, :].fillna(-1)\n",
    "    y_tr = y_train.iloc[tr_idx]\n",
    "    \n",
    "    model=cb.CatBoostClassifier(iterations=num_rounds,depth=14,learning_rate=0.04,loss_function='Logloss',eval_metric='Logloss'\n",
    "                                ,task_type = \"GPU\")\n",
    "    if debug:\n",
    "        model.fit(X_tr,y_tr,cat_features=cate,verbose_eval = 30)\n",
    "    else:\n",
    "        model.fit(X_tr,y_tr,cat_features=cate,verbose_eval = 30)\n",
    "        \n",
    "\n",
    "    del X_tr\n",
    "    y_preds3+= model.predict_proba(X_test[features].fillna(-1))[:,1] / folds\n",
    "    \n",
    "    \n",
    "    if debug:    \n",
    "        print(\"debug:\",roc_auc_score(y_test, model.predict_proba(X_test[features].fillna(-1))[:,1] / folds))  \n",
    "    i+=1\n",
    "\n",
    "if debug:    \n",
    "    print(\"debug:\",roc_auc_score(y_test, y_preds3))  \n",
    "    print(\"debug:\",roc_auc_score(y_test, (y_preds + y_preds3)*0.5))  \n",
    "    print(\"debug:\",roc_auc_score(y_test, (y_preds + y_preds2 + y_preds3)*0.33))"
   ]
  },
  {
   "cell_type": "code",
   "execution_count": 18,
   "metadata": {},
   "outputs": [],
   "source": [
    "if debug:    \n",
    "    print(\"debug:\",roc_auc_score(y_test, y_preds))\n",
    "    print(\"debug:\",roc_auc_score(y_test, y_preds2))\n",
    "    print(\"debug:\",roc_auc_score(y_test, y_preds3))  \n",
    "    print(\"debug:\",roc_auc_score(y_test, (y_preds + y_preds3)*0.5))  \n",
    "    print(\"debug:\",roc_auc_score(y_test, (y_preds + y_preds2 + y_preds3*0.5)*0.33))\n",
    "    print(\"debug:\",roc_auc_score(y_test, (y_preds11*0.5 + y_preds*0.5 + y_preds2 + y_preds3*0.5)*0.33))"
   ]
  },
  {
   "cell_type": "code",
   "execution_count": null,
   "metadata": {},
   "outputs": [],
   "source": [
    "\n",
    "    "
   ]
  },
  {
   "cell_type": "code",
   "execution_count": 19,
   "metadata": {},
   "outputs": [],
   "source": [
    "if not debug:   \n",
    "    sample_submission['isFraud'] = (y_preds11*0.5 + y_preds*0.5 + y_preds2 + y_preds3*0.5)*0.33\n",
    "    sample_submission.to_csv('simple_ensemble6.csv')\n"
   ]
  }
 ],
 "metadata": {
  "kernelspec": {
   "display_name": "Python 3",
   "language": "python",
   "name": "python3"
  },
  "language_info": {
   "codemirror_mode": {
    "name": "ipython",
    "version": 3
   },
   "file_extension": ".py",
   "mimetype": "text/x-python",
   "name": "python",
   "nbconvert_exporter": "python",
   "pygments_lexer": "ipython3",
   "version": "3.6.6"
  }
 },
 "nbformat": 4,
 "nbformat_minor": 1
}
